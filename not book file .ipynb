{
 "cells": [
  {
   "cell_type": "markdown",
   "id": "2f2cc773",
   "metadata": {},
   "source": [
    "# Machine Learning Project - Personalized Loan Demand"
   ]
  },
  {
   "cell_type": "markdown",
   "id": "aa8a8b7b",
   "metadata": {},
   "source": [
    "# importing the libraries"
   ]
  },
  {
   "cell_type": "code",
   "execution_count": 5,
   "id": "6659dabc",
   "metadata": {},
   "outputs": [],
   "source": [
    "import pandas as pd\n",
    "import numpy as np\n",
    "import matplotlib.pyplot as plt\n",
    "import seaborn as sns"
   ]
  },
  {
   "cell_type": "markdown",
   "id": "cc45bcb4",
   "metadata": {},
   "source": [
    "# Load the dataset into the pandas dataframe\n",
    "- 1 load the train data set and test data set into the pandas dataframe"
   ]
  },
  {
   "cell_type": "code",
   "execution_count": 6,
   "id": "030de2ff",
   "metadata": {},
   "outputs": [
    {
     "data": {
      "text/html": [
       "<div>\n",
       "<style scoped>\n",
       "    .dataframe tbody tr th:only-of-type {\n",
       "        vertical-align: middle;\n",
       "    }\n",
       "\n",
       "    .dataframe tbody tr th {\n",
       "        vertical-align: top;\n",
       "    }\n",
       "\n",
       "    .dataframe thead th {\n",
       "        text-align: right;\n",
       "    }\n",
       "</style>\n",
       "<table border=\"1\" class=\"dataframe\">\n",
       "  <thead>\n",
       "    <tr style=\"text-align: right;\">\n",
       "      <th></th>\n",
       "      <th>YearlyIncome</th>\n",
       "      <th>LoanPurpose</th>\n",
       "      <th>CreditRating</th>\n",
       "      <th>RequestedLoanAmount</th>\n",
       "    </tr>\n",
       "  </thead>\n",
       "  <tbody>\n",
       "    <tr>\n",
       "      <th>0</th>\n",
       "      <td>189176</td>\n",
       "      <td>Business</td>\n",
       "      <td>480</td>\n",
       "      <td>50028.840100</td>\n",
       "    </tr>\n",
       "    <tr>\n",
       "      <th>1</th>\n",
       "      <td>172768</td>\n",
       "      <td>Business</td>\n",
       "      <td>774</td>\n",
       "      <td>28613.450092</td>\n",
       "    </tr>\n",
       "    <tr>\n",
       "      <th>2</th>\n",
       "      <td>59305</td>\n",
       "      <td>Personal</td>\n",
       "      <td>672</td>\n",
       "      <td>57138.880019</td>\n",
       "    </tr>\n",
       "    <tr>\n",
       "      <th>3</th>\n",
       "      <td>31308</td>\n",
       "      <td>Business</td>\n",
       "      <td>578</td>\n",
       "      <td>4687.380052</td>\n",
       "    </tr>\n",
       "    <tr>\n",
       "      <th>4</th>\n",
       "      <td>52212</td>\n",
       "      <td>Home</td>\n",
       "      <td>400</td>\n",
       "      <td>26460.830079</td>\n",
       "    </tr>\n",
       "  </tbody>\n",
       "</table>\n",
       "</div>"
      ],
      "text/plain": [
       "   YearlyIncome LoanPurpose  CreditRating  RequestedLoanAmount\n",
       "0        189176    Business           480         50028.840100\n",
       "1        172768    Business           774         28613.450092\n",
       "2         59305    Personal           672         57138.880019\n",
       "3         31308    Business           578          4687.380052\n",
       "4         52212        Home           400         26460.830079"
      ]
     },
     "execution_count": 6,
     "metadata": {},
     "output_type": "execute_result"
    }
   ],
   "source": [
    "df_train =pd.read_csv('Dataset/Train.csv')\n",
    "df_test= pd.read_csv('Dataset/Test.csv')\n",
    "df_train.head()"
   ]
  },
  {
   "cell_type": "markdown",
   "id": "36418473",
   "metadata": {},
   "source": [
    "# Analysing the data by using the pandass library\n"
   ]
  },
  {
   "cell_type": "code",
   "execution_count": 7,
   "id": "e750a9e4",
   "metadata": {},
   "outputs": [
    {
     "data": {
      "text/html": [
       "<div>\n",
       "<style scoped>\n",
       "    .dataframe tbody tr th:only-of-type {\n",
       "        vertical-align: middle;\n",
       "    }\n",
       "\n",
       "    .dataframe tbody tr th {\n",
       "        vertical-align: top;\n",
       "    }\n",
       "\n",
       "    .dataframe thead th {\n",
       "        text-align: right;\n",
       "    }\n",
       "</style>\n",
       "<table border=\"1\" class=\"dataframe\">\n",
       "  <thead>\n",
       "    <tr style=\"text-align: right;\">\n",
       "      <th></th>\n",
       "      <th>YearlyIncome</th>\n",
       "      <th>LoanPurpose</th>\n",
       "      <th>CreditRating</th>\n",
       "      <th>RequestedLoanAmount</th>\n",
       "    </tr>\n",
       "  </thead>\n",
       "  <tbody>\n",
       "    <tr>\n",
       "      <th>0</th>\n",
       "      <td>151304</td>\n",
       "      <td>Car</td>\n",
       "      <td>495</td>\n",
       "      <td>NaN</td>\n",
       "    </tr>\n",
       "    <tr>\n",
       "      <th>1</th>\n",
       "      <td>86788</td>\n",
       "      <td>Business</td>\n",
       "      <td>636</td>\n",
       "      <td>NaN</td>\n",
       "    </tr>\n",
       "    <tr>\n",
       "      <th>2</th>\n",
       "      <td>64757</td>\n",
       "      <td>Personal</td>\n",
       "      <td>602</td>\n",
       "      <td>NaN</td>\n",
       "    </tr>\n",
       "    <tr>\n",
       "      <th>3</th>\n",
       "      <td>67540</td>\n",
       "      <td>Personal</td>\n",
       "      <td>715</td>\n",
       "      <td>NaN</td>\n",
       "    </tr>\n",
       "    <tr>\n",
       "      <th>4</th>\n",
       "      <td>42555</td>\n",
       "      <td>Personal</td>\n",
       "      <td>432</td>\n",
       "      <td>NaN</td>\n",
       "    </tr>\n",
       "  </tbody>\n",
       "</table>\n",
       "</div>"
      ],
      "text/plain": [
       "   YearlyIncome LoanPurpose  CreditRating  RequestedLoanAmount\n",
       "0        151304         Car           495                  NaN\n",
       "1         86788    Business           636                  NaN\n",
       "2         64757    Personal           602                  NaN\n",
       "3         67540    Personal           715                  NaN\n",
       "4         42555    Personal           432                  NaN"
      ]
     },
     "execution_count": 7,
     "metadata": {},
     "output_type": "execute_result"
    }
   ],
   "source": [
    "df_test.head()"
   ]
  },
  {
   "cell_type": "code",
   "execution_count": 8,
   "id": "016ccbff",
   "metadata": {},
   "outputs": [
    {
     "name": "stdout",
     "output_type": "stream",
     "text": [
      "<class 'pandas.core.frame.DataFrame'>\n",
      "RangeIndex: 14700 entries, 0 to 14699\n",
      "Data columns (total 4 columns):\n",
      " #   Column               Non-Null Count  Dtype  \n",
      "---  ------               --------------  -----  \n",
      " 0   YearlyIncome         14700 non-null  int64  \n",
      " 1   LoanPurpose          14700 non-null  object \n",
      " 2   CreditRating         14700 non-null  int64  \n",
      " 3   RequestedLoanAmount  14700 non-null  float64\n",
      "dtypes: float64(1), int64(2), object(1)\n",
      "memory usage: 459.5+ KB\n"
     ]
    }
   ],
   "source": [
    "df_train.info()"
   ]
  },
  {
   "cell_type": "code",
   "execution_count": 9,
   "id": "d9b0e69b",
   "metadata": {},
   "outputs": [
    {
     "data": {
      "text/html": [
       "<div>\n",
       "<style scoped>\n",
       "    .dataframe tbody tr th:only-of-type {\n",
       "        vertical-align: middle;\n",
       "    }\n",
       "\n",
       "    .dataframe tbody tr th {\n",
       "        vertical-align: top;\n",
       "    }\n",
       "\n",
       "    .dataframe thead th {\n",
       "        text-align: right;\n",
       "    }\n",
       "</style>\n",
       "<table border=\"1\" class=\"dataframe\">\n",
       "  <thead>\n",
       "    <tr style=\"text-align: right;\">\n",
       "      <th></th>\n",
       "      <th>YearlyIncome</th>\n",
       "      <th>CreditRating</th>\n",
       "      <th>RequestedLoanAmount</th>\n",
       "    </tr>\n",
       "  </thead>\n",
       "  <tbody>\n",
       "    <tr>\n",
       "      <th>count</th>\n",
       "      <td>14700.000000</td>\n",
       "      <td>14700.000000</td>\n",
       "      <td>14700.000000</td>\n",
       "    </tr>\n",
       "    <tr>\n",
       "      <th>mean</th>\n",
       "      <td>109886.832381</td>\n",
       "      <td>576.229456</td>\n",
       "      <td>32978.126907</td>\n",
       "    </tr>\n",
       "    <tr>\n",
       "      <th>std</th>\n",
       "      <td>52099.376488</td>\n",
       "      <td>160.302444</td>\n",
       "      <td>18467.196486</td>\n",
       "    </tr>\n",
       "    <tr>\n",
       "      <th>min</th>\n",
       "      <td>20231.000000</td>\n",
       "      <td>300.000000</td>\n",
       "      <td>1013.000037</td>\n",
       "    </tr>\n",
       "    <tr>\n",
       "      <th>25%</th>\n",
       "      <td>64688.750000</td>\n",
       "      <td>436.000000</td>\n",
       "      <td>16975.435016</td>\n",
       "    </tr>\n",
       "    <tr>\n",
       "      <th>50%</th>\n",
       "      <td>109874.500000</td>\n",
       "      <td>577.000000</td>\n",
       "      <td>32984.760068</td>\n",
       "    </tr>\n",
       "    <tr>\n",
       "      <th>75%</th>\n",
       "      <td>155149.500000</td>\n",
       "      <td>717.000000</td>\n",
       "      <td>48968.515059</td>\n",
       "    </tr>\n",
       "    <tr>\n",
       "      <th>max</th>\n",
       "      <td>199945.000000</td>\n",
       "      <td>849.000000</td>\n",
       "      <td>64948.000025</td>\n",
       "    </tr>\n",
       "  </tbody>\n",
       "</table>\n",
       "</div>"
      ],
      "text/plain": [
       "        YearlyIncome  CreditRating  RequestedLoanAmount\n",
       "count   14700.000000  14700.000000         14700.000000\n",
       "mean   109886.832381    576.229456         32978.126907\n",
       "std     52099.376488    160.302444         18467.196486\n",
       "min     20231.000000    300.000000          1013.000037\n",
       "25%     64688.750000    436.000000         16975.435016\n",
       "50%    109874.500000    577.000000         32984.760068\n",
       "75%    155149.500000    717.000000         48968.515059\n",
       "max    199945.000000    849.000000         64948.000025"
      ]
     },
     "execution_count": 9,
     "metadata": {},
     "output_type": "execute_result"
    }
   ],
   "source": [
    "df_train.describe()"
   ]
  },
  {
   "cell_type": "code",
   "execution_count": 10,
   "id": "79ddbb62",
   "metadata": {},
   "outputs": [
    {
     "data": {
      "text/plain": [
       "(14700, 4)"
      ]
     },
     "execution_count": 10,
     "metadata": {},
     "output_type": "execute_result"
    }
   ],
   "source": [
    "df_train.shape"
   ]
  },
  {
   "cell_type": "markdown",
   "id": "3b71a44b",
   "metadata": {},
   "source": [
    "# checking the duplicates in the dataset by using the duplicated() function"
   ]
  },
  {
   "cell_type": "code",
   "execution_count": 11,
   "id": "b89f940b",
   "metadata": {},
   "outputs": [
    {
     "data": {
      "text/plain": [
       "np.int64(0)"
      ]
     },
     "execution_count": 11,
     "metadata": {},
     "output_type": "execute_result"
    }
   ],
   "source": [
    "df_train.duplicated().sum()"
   ]
  },
  {
   "cell_type": "code",
   "execution_count": 12,
   "id": "4c51c987",
   "metadata": {},
   "outputs": [
    {
     "data": {
      "text/plain": [
       "np.int64(0)"
      ]
     },
     "execution_count": 12,
     "metadata": {},
     "output_type": "execute_result"
    }
   ],
   "source": [
    "df_test.duplicated().sum()"
   ]
  },
  {
   "cell_type": "markdown",
   "id": "5fa9c4ac",
   "metadata": {},
   "source": [
    "# finddingthe missing values in the dataset by using the isnull() function  \n"
   ]
  },
  {
   "cell_type": "code",
   "execution_count": 13,
   "id": "5753644d",
   "metadata": {},
   "outputs": [
    {
     "data": {
      "text/plain": [
       "YearlyIncome           0\n",
       "LoanPurpose            0\n",
       "CreditRating           0\n",
       "RequestedLoanAmount    0\n",
       "dtype: int64"
      ]
     },
     "execution_count": 13,
     "metadata": {},
     "output_type": "execute_result"
    }
   ],
   "source": [
    "df_train.isnull().sum()"
   ]
  },
  {
   "cell_type": "code",
   "execution_count": 14,
   "id": "05115d74",
   "metadata": {},
   "outputs": [
    {
     "data": {
      "text/plain": [
       "YearlyIncome             0\n",
       "LoanPurpose              0\n",
       "CreditRating             0\n",
       "RequestedLoanAmount    300\n",
       "dtype: int64"
      ]
     },
     "execution_count": 14,
     "metadata": {},
     "output_type": "execute_result"
    }
   ],
   "source": [
    "df_test.isnull().sum()"
   ]
  },
  {
   "cell_type": "markdown",
   "id": "ab89ef99",
   "metadata": {},
   "source": [
    "understanding the data by using the visualization tools here we using the seabo"
   ]
  },
  {
   "cell_type": "code",
   "execution_count": null,
   "id": "4789feb4",
   "metadata": {},
   "outputs": [],
   "source": []
  }
 ],
 "metadata": {
  "kernelspec": {
   "display_name": "re",
   "language": "python",
   "name": "python3"
  },
  "language_info": {
   "codemirror_mode": {
    "name": "ipython",
    "version": 3
   },
   "file_extension": ".py",
   "mimetype": "text/x-python",
   "name": "python",
   "nbconvert_exporter": "python",
   "pygments_lexer": "ipython3",
   "version": "3.11.7"
  }
 },
 "nbformat": 4,
 "nbformat_minor": 5
}
